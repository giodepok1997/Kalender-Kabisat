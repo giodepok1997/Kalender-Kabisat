{
 "cells": [
  {
   "cell_type": "code",
   "execution_count": 1,
   "metadata": {},
   "outputs": [
    {
     "name": "stdout",
     "output_type": "stream",
     "text": [
      "Data yang dimasukan kedalam Linked List : \n",
      "17 1 3 7 "
     ]
    }
   ],
   "source": [
    "class Node(object):\n",
    "    def __init__(self):\n",
    "        self.data = None # yang nantinya akan diisikan data\n",
    "        self.next = None # alamat untuk ke node selanjutnya\n",
    "        \n",
    "class LinkedList:\n",
    "    def __init__(self):\n",
    "        self.cur_node = None\n",
    "        \n",
    "    def add_node(self, data):\n",
    "        new_node = Node()\n",
    "        new_node.data = data\n",
    "        new_node.next = self.cur_node\n",
    "        self.cur_node = new_node\n",
    "    \n",
    "    def cetak(self):\n",
    "        node = self.cur_node\n",
    "        while node:\n",
    "            print(node.data, end=' ')\n",
    "            node = node.next\n",
    "            \n",
    "# eksekusi program\n",
    "ll = LinkedList()\n",
    "ll.add_node(7) # data pertama yang dimasukan\n",
    "ll.add_node(3) # data kedua yang dimasukan\n",
    "ll.add_node(1) # data ketiga yang dimasukan\n",
    "ll.add_node(17) # data keempat yang dimasukan\n",
    "\n",
    "print(\"Data yang dimasukan kedalam Linked List : \")\n",
    "ll.cetak()\n",
    "#Hasilnya data pertama yang dicetak akan bergeser ke kanan. Dan data terakhir akan push ke barisan pertama\n",
    "#Jadi ini linked list yang tidak terurut!"
   ]
  },
  {
   "cell_type": "code",
   "execution_count": null,
   "metadata": {},
   "outputs": [],
   "source": []
  }
 ],
 "metadata": {
  "kernelspec": {
   "display_name": "Python 3",
   "language": "python",
   "name": "python3"
  },
  "language_info": {
   "codemirror_mode": {
    "name": "ipython",
    "version": 3
   },
   "file_extension": ".py",
   "mimetype": "text/x-python",
   "name": "python",
   "nbconvert_exporter": "python",
   "pygments_lexer": "ipython3",
   "version": "3.7.0"
  }
 },
 "nbformat": 4,
 "nbformat_minor": 2
}
