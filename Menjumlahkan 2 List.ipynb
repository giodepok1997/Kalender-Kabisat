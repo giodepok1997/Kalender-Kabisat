{
 "cells": [
  {
   "cell_type": "code",
   "execution_count": 3,
   "metadata": {},
   "outputs": [
    {
     "name": "stdout",
     "output_type": "stream",
     "text": [
      "Program Penjumlahan Dua Angka dari Linked List\n",
      "Nilai pada List ke-1 adalah              : 2 1 8\n",
      "Nilai pada List ke-2 adalah              : 7 1 1\n",
      "Hasil dari penjumlahan kedua list adalah : 9 2 9\n"
     ]
    }
   ],
   "source": [
    "import sys\n",
    "\n",
    "class Node:\n",
    "    def __init__(self, x, nextNode = None):\n",
    "        self.val = x\n",
    "        self.next = nextNode\n",
    " \n",
    "def cetakList(l): # untuk cetak list yang masuk\n",
    "    value = []\n",
    "    while(l): # looping untuk mencetak index list yang ada\n",
    "        value.append(l.val)\n",
    "        l = l.next\n",
    "    print(' '.join(map(str, value))) # cetak dengan spasi sebagai pemisah\n",
    " \n",
    "def penjumlahan(l1, l2): # method penjumlahan list\n",
    "    sum = l1.val + l2.val\n",
    "    carry = int(sum / 10)\n",
    " \n",
    "    l3 = Node(sum%10)\n",
    "    p1 = l1.next\n",
    "    p2 = l2.next\n",
    "    p3 = l3\n",
    "    while(p1 != None or p2 != None):\n",
    "        sum = carry + ( p1.val if p1 else 0) + ( p2.val if p2 else 0)\n",
    "        carry = int(sum/10)\n",
    "        p3.next = Node(sum % 10)\n",
    "        p3 = p3.next\n",
    "        p1 = p1.next if p1 else None\n",
    "        p2 = p2.next if p2 else None\n",
    " \n",
    "    if(carry > 0):\n",
    "        p3.next = Node(carry)\n",
    " \n",
    "    return l3\n",
    "\n",
    "#eksekusi program penjumlahan\n",
    "print('Program Penjumlahan Dua Angka dari Linked List')\n",
    "l1 = Node(2, Node(1, Node(8))) # jadinya didalam list pertama ada angka 6, 1, dan 9\n",
    "sys.stdout.write('Nilai pada List ke-1 adalah              : ') \n",
    "cetakList(l1) #cetak list yang dimasukan\n",
    "l2 = Node(7, Node(1, Node(1))) # jadinya didalam list pertama ada angka 7, 1, dan 1\n",
    "sys.stdout.write('Nilai pada List ke-2 adalah              : ')\n",
    "cetakList(l2) #cetak list yang dimasukan\n",
    "l3 = penjumlahan(l1, l2)\n",
    "sys.stdout.write('Hasil dari penjumlahan kedua list adalah : ')\n",
    "cetakList(l3) #cetak list hasil penjumlahan list pertama dan kedua"
   ]
  },
  {
   "cell_type": "code",
   "execution_count": null,
   "metadata": {},
   "outputs": [],
   "source": []
  }
 ],
 "metadata": {
  "kernelspec": {
   "display_name": "Python 3",
   "language": "python",
   "name": "python3"
  },
  "language_info": {
   "codemirror_mode": {
    "name": "ipython",
    "version": 3
   },
   "file_extension": ".py",
   "mimetype": "text/x-python",
   "name": "python",
   "nbconvert_exporter": "python",
   "pygments_lexer": "ipython3",
   "version": "3.7.0"
  }
 },
 "nbformat": 4,
 "nbformat_minor": 2
}
