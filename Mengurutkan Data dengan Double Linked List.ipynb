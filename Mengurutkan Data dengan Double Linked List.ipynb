{
 "cells": [
  {
   "cell_type": "code",
   "execution_count": 1,
   "metadata": {},
   "outputs": [
    {
     "name": "stdout",
     "output_type": "stream",
     "text": [
      "Program Sederhana untuk Mengurutkan Data dengan Menggunakan Double Linked List\n",
      "Sebelum data diurutkan :    8   3   6   17   1  \n",
      "Sesudah data diurutkan :    1   3   6   8   17  \n",
      " \n",
      "Terima Kasih\n"
     ]
    }
   ],
   "source": [
    "class Node :\n",
    "    \n",
    "    def __init__(self, data): #inisialisasi node\n",
    "        self.data = data\n",
    "        self.next = None\n",
    "        \n",
    "class linkedlist :\n",
    "\n",
    "    def __init__(self):\n",
    "        self.head = None\n",
    "    \n",
    "    def tampil(self):\n",
    "        current = self.head\n",
    "        while current is not None: #looping\n",
    "            print(' ', current.data, end=' ')\n",
    "            current = current.next\n",
    "    \n",
    "    def insert(self, new_data): #method print data yang dimasukan\n",
    "        new_node = Node(new_data)\n",
    "        if self.head is None:\n",
    "            self.head = new_node\n",
    "            return\n",
    "        last = self.head\n",
    "        while(last.next):\n",
    "            last = last.next\n",
    "        last.next = new_node\n",
    "        \n",
    "    def sortir(self) : #method untuk sortir dengan double linked list\n",
    "        current =self.head\n",
    "        index = None\n",
    "        if(self.head == None):\n",
    "            return\n",
    "        else:\n",
    "            while(current != None):\n",
    "                index = current.next\n",
    "                while(index != None):\n",
    "                    if (current.data > index.data):\n",
    "                        temp = current.data\n",
    "                        current.data = index.data\n",
    "                        index.data = temp\n",
    "                    index = index.next\n",
    "                current = current.next\n",
    "                \n",
    "#eksekus program dengan memasukan data kedalam list\n",
    "#pertama inisialisasi list terlebih dahulu\n",
    "linkedlist1 = linkedlist()\n",
    "#selanjutnya masukan beberapa data yang diinginkan\n",
    "linkedlist1.insert(8)\n",
    "linkedlist1.insert(3)\n",
    "linkedlist1.insert(6)\n",
    "linkedlist1.insert(17)\n",
    "linkedlist1.insert(1)\n",
    "\n",
    "#tampilkan data yang sudah dimasukan (sebelum di urutkan)\n",
    "print(\"Program Sederhana untuk Mengurutkan Data dengan Menggunakan Double Linked List\")\n",
    "print(\"Sebelum data diurutkan : \", end=' ')\n",
    "linkedlist1.tampil()\n",
    "print(' ')\n",
    "#tampilkan data yang sudah dimasukan (sesudah di urutkan)\n",
    "print(\"Sesudah data diurutkan : \", end=' ')\n",
    "linkedlist1.sortir()\n",
    "linkedlist1.tampil()\n",
    "\n",
    "print(' ')\n",
    "print(' ')\n",
    "print('Terima Kasih')"
   ]
  },
  {
   "cell_type": "code",
   "execution_count": null,
   "metadata": {},
   "outputs": [],
   "source": []
  }
 ],
 "metadata": {
  "kernelspec": {
   "display_name": "Python 3",
   "language": "python",
   "name": "python3"
  },
  "language_info": {
   "codemirror_mode": {
    "name": "ipython",
    "version": 3
   },
   "file_extension": ".py",
   "mimetype": "text/x-python",
   "name": "python",
   "nbconvert_exporter": "python",
   "pygments_lexer": "ipython3",
   "version": "3.7.0"
  }
 },
 "nbformat": 4,
 "nbformat_minor": 2
}
