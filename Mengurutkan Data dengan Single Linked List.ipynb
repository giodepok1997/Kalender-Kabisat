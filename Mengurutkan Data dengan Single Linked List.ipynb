{
 "cells": [
  {
   "cell_type": "code",
   "execution_count": null,
   "metadata": {},
   "outputs": [],
   "source": [
    "class Node :\n",
    "    def __init__(self, data):\n",
    "        self.data = data\n",
    "        self.next = None\n",
    "        \n",
    "class linkedlist :\n",
    "    def __init__(self):\n",
    "        self.head = None\n",
    "        \n",
    "    def insert(self, new_data):\n",
    "        new_node = Node(new_data)\n",
    "        if self.head is None:\n",
    "            self.head = new_node\n",
    "            return\n",
    "        last = self.head\n",
    "        while(last.next):\n",
    "            last = last.next\n",
    "        \n",
    "        last.next = new_node\n",
    "        \n",
    "    def tampilkan_data(self):\n",
    "        current = self.head\n",
    "        while current is not None:\n",
    "            print(' ', current.data, end=\" \")\n",
    "            current = current.next\n",
    "    \n",
    "    def sortlist(self):\n",
    "        current = self.head\n",
    "        index = None\n",
    "        if(self.head == None):\n",
    "            return\n",
    "        else:\n",
    "            while(current != None):\n",
    "                index = current.next\n",
    "                while(index != None):\n",
    "                    if(current.data > index.data):\n",
    "                        temp = current.data\n",
    "                        current.data = index.data\n",
    "                        index.data = temp\n",
    "                    index = index.next\n",
    "                current = current.next\n",
    "\n",
    "list1 = linkedlist()\n",
    "list1.insert(7) #memasukan data ke dalam linked list\n",
    "list1.insert(19) #memasukan data ke dalam linked list\n",
    "list1.insert(2) #memasukan data ke dalam linked list\n",
    "list1.insert(5) #memasukan data ke dalam linked list\n",
    "list1.insert(0) #memasukan data ke dalam linked list\n",
    "print(\"Program untuk mengurutkan data dengan Linked List\")\n",
    "print(\"Data sebelum diurutkan : \", end=\" \")\n",
    "list1.tampilkan_data()\n",
    "print(\" \")\n",
    "print(\"Data sesudah diurutkan : \", end=\" \")\n",
    "list1.sortlist()\n",
    "list1.tampilkan_data()"
   ]
  }
 ],
 "metadata": {
  "kernelspec": {
   "display_name": "Python 3",
   "language": "python",
   "name": "python3"
  },
  "language_info": {
   "codemirror_mode": {
    "name": "ipython",
    "version": 3
   },
   "file_extension": ".py",
   "mimetype": "text/x-python",
   "name": "python",
   "nbconvert_exporter": "python",
   "pygments_lexer": "ipython3",
   "version": "3.7.0"
  }
 },
 "nbformat": 4,
 "nbformat_minor": 2
}
