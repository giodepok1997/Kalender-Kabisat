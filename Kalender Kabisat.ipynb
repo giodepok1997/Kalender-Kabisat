{
 "cells": [
  {
   "cell_type": "code",
   "execution_count": 15,
   "metadata": {},
   "outputs": [
    {
     "name": "stdout",
     "output_type": "stream",
     "text": [
      "Masukkan Tahun :2011\n",
      "    Januari2011     \n",
      "days ['Mo ', 'Tu ', 'We ', 'Th ', 'Fr ', 'Sa ', 'Su ']\n",
      "    Februari2011    \n",
      "days ['Mo ', 'Tu ', 'We ', 'Th ', 'Fr ', 'Sa ', 'Su ']\n",
      "     Maret2011      \n",
      "days ['Mo ', 'Tu ', 'We ', 'Th ', 'Fr ', 'Sa ', 'Su ']\n",
      "     April2011      \n",
      "days ['Mo ', 'Tu ', 'We ', 'Th ', 'Fr ', 'Sa ', 'Su ']\n",
      "      Mei2011       \n",
      "days ['Mo ', 'Tu ', 'We ', 'Th ', 'Fr ', 'Sa ', 'Su ']\n",
      "      Juni2011      \n",
      "days ['Mo ', 'Tu ', 'We ', 'Th ', 'Fr ', 'Sa ', 'Su ']\n",
      "      Juli2011      \n",
      "days ['Mo ', 'Tu ', 'We ', 'Th ', 'Fr ', 'Sa ', 'Su ']\n",
      "    Agustus2011     \n",
      "days ['Mo ', 'Tu ', 'We ', 'Th ', 'Fr ', 'Sa ', 'Su ']\n",
      "   September2011    \n",
      "days ['Mo ', 'Tu ', 'We ', 'Th ', 'Fr ', 'Sa ', 'Su ']\n",
      "    Oktober2011     \n",
      "days ['Mo ', 'Tu ', 'We ', 'Th ', 'Fr ', 'Sa ', 'Su ']\n",
      "    November2011    \n",
      "days ['Mo ', 'Tu ', 'We ', 'Th ', 'Fr ', 'Sa ', 'Su ']\n",
      "    Desember2011    \n",
      "days ['Mo ', 'Tu ', 'We ', 'Th ', 'Fr ', 'Sa ', 'Su ']\n"
     ]
    },
    {
     "data": {
      "text/plain": [
       "False"
      ]
     },
     "execution_count": 15,
     "metadata": {},
     "output_type": "execute_result"
    }
   ],
   "source": [
    "kalender = [('Januari',\n",
    "range(1, 31+1)),\n",
    "        ('Februari',\n",
    "range(1, 28+1)),\n",
    "        ('Maret',\n",
    "range(1, 31+1)),\n",
    "        ('April',\n",
    "range(1, 30+1)),\n",
    "        ('Mei',\n",
    "range(1, 31+1)),\n",
    "        ('Juni',\n",
    "range(1, 30+1)),\n",
    "        ('Juli',\n",
    "range(1, 31+1)),\n",
    "        ('Agustus',\n",
    "range(1, 31+1)),\n",
    "        ('September',\n",
    "range(1, 30+1)),\n",
    "        ('Oktober',\n",
    "range(1, 31+1)),\n",
    "        ('November',\n",
    "range(1, 30+1)),\n",
    "        ('Desember',\n",
    "range(1, 31+1))]\n",
    "\n",
    "minggu = ['Mo','Tu','We','Th','Fr','Sa','Su']\n",
    "\n",
    "def klndr(tahun,awal_hari):\n",
    "    pos_awal = minggu.index('Tu')\n",
    "\n",
    "    if kabisat(tahun):\n",
    "        kalender[1] = ('Februari', range(1,29+1))\n",
    "\n",
    "    for bulan, days in kalender:\n",
    "        print('{0}{1}'.format(bulan,tahun).center(20,' '))\n",
    "        print('{0:<3}'.format('days'), end='')\n",
    "        print('',(['{0:<3}'.format(w) for w in minggu]))\n",
    "    \n",
    "        \n",
    "    pos_awal += 1\n",
    "    \n",
    "    if pos_awal == 7:\n",
    "        print()\n",
    "        pos_awal = 0\n",
    "        print('\\n')\n",
    "        \n",
    "\n",
    "def kabisat(tahun):\n",
    "    if tahun %4 == 0:\n",
    "        if tahun % 100 == 0:\n",
    "            return True\n",
    "        else:\n",
    "            return False\n",
    "    \n",
    "    else: return False\n",
    "    \n",
    "\n",
    "yr = int(input('Masukkan Tahun :'))\n",
    "klndr(yr, minggu)\n",
    "kabisat(yr)\n",
    "        "
   ]
  },
  {
   "cell_type": "code",
   "execution_count": null,
   "metadata": {},
   "outputs": [],
   "source": []
  },
  {
   "cell_type": "code",
   "execution_count": null,
   "metadata": {},
   "outputs": [],
   "source": []
  }
 ],
 "metadata": {
  "kernelspec": {
   "display_name": "Python 3",
   "language": "python",
   "name": "python3"
  },
  "language_info": {
   "codemirror_mode": {
    "name": "ipython",
    "version": 3
   },
   "file_extension": ".py",
   "mimetype": "text/x-python",
   "name": "python",
   "nbconvert_exporter": "python",
   "pygments_lexer": "ipython3",
   "version": "3.7.0"
  }
 },
 "nbformat": 4,
 "nbformat_minor": 2
}
