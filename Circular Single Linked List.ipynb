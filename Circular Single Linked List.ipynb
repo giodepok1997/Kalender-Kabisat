{
 "cells": [
  {
   "cell_type": "code",
   "execution_count": 1,
   "metadata": {},
   "outputs": [
    {
     "name": "stdout",
     "output_type": "stream",
     "text": [
      "Hasil dari Circular Linked List :  6 4 2 1 9  \n",
      "Terima Kasih :)\n"
     ]
    }
   ],
   "source": [
    "class Node :\n",
    "    #inisialisasi Node\n",
    "    def __init__(self, data):\n",
    "        self.data = data\n",
    "        self.next = None\n",
    "        \n",
    "class CircularLinkedList :\n",
    "    \n",
    "    def __init__(self):\n",
    "        self.head = None\n",
    "        \n",
    "        \n",
    "    def push(self, data):\n",
    "        ptr1 = Node(data)\n",
    "        temp = self.head\n",
    "        \n",
    "        ptr1.next = self.head\n",
    "        \n",
    "        if self.head is not None:\n",
    "            while (temp.next != self.head):\n",
    "                temp = temp.next\n",
    "            temp.next = ptr1\n",
    "        else:\n",
    "            ptr1.next = ptr1\n",
    "        self.head = ptr1\n",
    "    \n",
    "    def cetak(self):\n",
    "        temp = self.head\n",
    "        if self.head is not None:\n",
    "            while (True):\n",
    "                print(temp.data, end=' ')\n",
    "                temp = temp.next\n",
    "                if (temp == self.head):\n",
    "                    break\n",
    "\n",
    "#eksekusi program\n",
    "#insialisasi list\n",
    "listcircular = CircularLinkedList()\n",
    "\n",
    "#memasukan data kedalam list\n",
    "listcircular.push(9)\n",
    "listcircular.push(1)\n",
    "listcircular.push(2)\n",
    "listcircular.push(4)\n",
    "listcircular.push(6)\n",
    "print(\"Hasil dari Circular Linked List : \", end=' ')\n",
    "listcircular.cetak()\n",
    "print(\" \")\n",
    "print(\"Terima Kasih :)\")"
   ]
  },
  {
   "cell_type": "code",
   "execution_count": null,
   "metadata": {},
   "outputs": [],
   "source": []
  }
 ],
 "metadata": {
  "kernelspec": {
   "display_name": "Python 3",
   "language": "python",
   "name": "python3"
  },
  "language_info": {
   "codemirror_mode": {
    "name": "ipython",
    "version": 3
   },
   "file_extension": ".py",
   "mimetype": "text/x-python",
   "name": "python",
   "nbconvert_exporter": "python",
   "pygments_lexer": "ipython3",
   "version": "3.7.0"
  }
 },
 "nbformat": 4,
 "nbformat_minor": 2
}
